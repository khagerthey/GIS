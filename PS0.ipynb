{
  "nbformat": 4,
  "nbformat_minor": 0,
  "metadata": {
    "colab": {
      "provenance": [],
      "authorship_tag": "ABX9TyPkBl5EKj+oA3Jise2tEGXA",
      "include_colab_link": true
    },
    "kernelspec": {
      "name": "python3",
      "display_name": "Python 3"
    },
    "language_info": {
      "name": "python"
    }
  },
  "cells": [
    {
      "cell_type": "markdown",
      "metadata": {
        "id": "view-in-github",
        "colab_type": "text"
      },
      "source": [
        "<a href=\"https://colab.research.google.com/github/khagerthey/GIS/blob/main/PS0.ipynb\" target=\"_parent\"><img src=\"https://colab.research.google.com/assets/colab-badge.svg\" alt=\"Open In Colab\"/></a>"
      ]
    },
    {
      "cell_type": "markdown",
      "source": [
        "##My Plan"
      ],
      "metadata": {
        "id": "B4hY_bB3OG3Y"
      }
    },
    {
      "cell_type": "markdown",
      "source": [
        "I plan on focusing my research around entrepreneurship. I feel with the useful tool of social media there has been an increase in small businesses. I’m interested in seeing if location within the United States has an effect on the type of businesses and if there is any correlation between business and local cost of living."
      ],
      "metadata": {
        "id": "a4nBQbKZM7Qr"
      }
    },
    {
      "cell_type": "code",
      "execution_count": null,
      "metadata": {
        "id": "NAmHufKxM4bY"
      },
      "outputs": [],
      "source": []
    }
  ]
}