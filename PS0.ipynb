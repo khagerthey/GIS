{
  "nbformat": 4,
  "nbformat_minor": 0,
  "metadata": {
    "colab": {
      "provenance": [],
      "authorship_tag": "ABX9TyNUzwKGPTOr0MyxfzHSF8HC",
      "include_colab_link": true
    },
    "kernelspec": {
      "name": "python3",
      "display_name": "Python 3"
    },
    "language_info": {
      "name": "python"
    }
  },
  "cells": [
    {
      "cell_type": "markdown",
      "metadata": {
        "id": "view-in-github",
        "colab_type": "text"
      },
      "source": [
        "<a href=\"https://colab.research.google.com/github/khagerthey/GIS/blob/main/PS0.ipynb\" target=\"_parent\"><img src=\"https://colab.research.google.com/assets/colab-badge.svg\" alt=\"Open In Colab\"/></a>"
      ]
    },
    {
      "cell_type": "markdown",
      "source": [
        "#My Plan\n",
        "I plan on focusing my research around entrepreneurship. I feel with the useful tool of social media there has been an increase in small businesses. I’m interested in seeing if location within the United States has an effect on the type of businesses, location of buyer vs seller, and if there is any correlation between business and local cost of living."
      ],
      "metadata": {
        "id": "a4nBQbKZM7Qr"
      }
    },
    {
      "cell_type": "markdown",
      "source": [
        "#Resources\n",
        "https://www.statista.com/statistics/1306812/number-us-etsy-sellers-state/\n",
        "Here is usable data of the number of sellers in each state!\n",
        "\n",
        "https://www.marketplacepulse.com/top-etsy-sellers\n",
        "Here is usable data of top Etsy sellers! (countries)\n"
      ],
      "metadata": {
        "id": "0Gth5LXKYOeD"
      }
    },
    {
      "cell_type": "code",
      "execution_count": 1,
      "metadata": {
        "id": "NAmHufKxM4bY"
      },
      "outputs": [],
      "source": [
        "import os, zipfile\n",
        "import pandas as pd\n",
        "import matplotlib.pyplot as plt\n",
        "\n",
        "from IPython.core.interactiveshell import InteractiveShell\n",
        "InteractiveShell.ast_node_interactivity = \"all\"\n",
        "\n",
        "from google.colab import data_table\n",
        "data_table.enable_dataframe_formatter()\n",
        "\n",
        "import geopandas as gpd"
      ]
    }
  ]
}